{
 "cells": [
  {
   "cell_type": "markdown",
   "metadata": {},
   "source": [
    "# Problem 1\n",
    "\n",
    "Implement the Perceptron algorithm to classify the dataset in “train.mat”. Plot the classification results, including the decision boundary created by the perceptron model."
   ]
  },
  {
   "cell_type": "markdown",
   "metadata": {},
   "source": [
    "## Solution\n",
    "\n",
    "The dataset is loaded from `\"train.mat\"`, which contains features `x1`, `x2`, and labels `y`. The Perceptron model updates its weights based on the misclassified samples iteratively. The hypothesis function is defined as:\n",
    "\n",
    "$$ h(\\mathbf{x}) = \\text{sign}(\\mathbf{w}^T \\mathbf{x} + b) $$\n",
    "\n",
    "The weight update rule for misclassified samples is:\n",
    "\n",
    "$$ \\mathbf{w}_{t+1} = \\mathbf{w}_t + y_i \\mathbf{x}_i,\\ b_{t+1} = b_t + y_i $$\n",
    "\n",
    "where $ y_i \\in \\{-1, 1\\} $ is the true label of the sample $ \\mathbf{x}_i $.\n",
    "\n",
    "After training, we plot the classification results along with the decision boundary: $ \\mathbf{w}^T \\mathbf{x} + b = 0 $.\n"
   ]
  },
  {
   "cell_type": "code",
   "execution_count": 12,
   "metadata": {},
   "outputs": [
    {
     "name": "stdout",
     "output_type": "stream",
     "text": [
      "Note: you may need to restart the kernel to use updated packages.\n"
     ]
    }
   ],
   "source": [
    "pip install --no-build-isolation -Uq pip torch torchvision scipy tqdm matplotlib numpy Pillow"
   ]
  },
  {
   "cell_type": "code",
   "execution_count": 2,
   "metadata": {},
   "outputs": [
    {
     "name": "stdout",
     "output_type": "stream",
     "text": [
      "{'X_train': (70, 2), 'y_train': (70,)}\n",
      "Training converged after 6 epochs.\n",
      "Perceptron Training Accuracy: 100.00%\n"
     ]
    },
    {
     "data": {
      "image/png": "[encoded data removed]",
      "text/plain": [
       "<Figure size 600x600 with 1 Axes>"
      ]
     },
     "metadata": {},
     "output_type": "display_data"
    }
   ],
   "source": [
    "import torch\n",
    "import scipy.io\n",
    "import matplotlib.pyplot as plt\n",
    "from typing import Tuple\n",
    "\n",
    "\n",
    "def load_perceptron_data(file_path: str) -> Tuple[torch.Tensor, torch.Tensor]:\n",
    "    data = scipy.io.loadmat(file_path)\n",
    "    x1 = torch.tensor(data[\"x1\"], dtype=torch.float32).reshape(-1, 1)\n",
    "    x2 = torch.tensor(data[\"x2\"], dtype=torch.float32).reshape(-1, 1)\n",
    "    X = torch.cat((x1, x2), dim=1)\n",
    "    y = torch.tensor(data[\"y\"].flatten(), dtype=torch.float32)\n",
    "    y_domain = torch.unique(y)\n",
    "    assert len(y_domain) == 2, f\"Expected 2 classes, but got {len(y_domain)}.\"\n",
    "    y = torch.where(y == y_domain[0], -1.0, 1.0)\n",
    "    return X, y\n",
    "\n",
    "\n",
    "def plot_decision_boundary(\n",
    "    X: torch.Tensor,\n",
    "    y: torch.Tensor,\n",
    "    w: torch.Tensor,\n",
    "    b: torch.Tensor,\n",
    "    figsize: Tuple[int, int] = (6, 6),\n",
    ") -> None:\n",
    "    X, y, w, b = X.cpu(), y.cpu(), w.cpu(), b.cpu()\n",
    "\n",
    "    plt.figure(figsize=figsize)\n",
    "    for label in y.unique():\n",
    "        plt.scatter(X[y == label, 0], X[y == label, 1], 6, label=f\"y = {int(label)}\")\n",
    "    x_min, x_max = X[:, 0].min() - 1, X[:, 0].max() + 1\n",
    "    y_min, y_max = X[:, 1].min() - 1, X[:, 1].max() + 1\n",
    "    plt.xlim(x_min, x_max)\n",
    "    plt.ylim(y_min, y_max)\n",
    "    if w[1] != 0:\n",
    "        x1_vals = torch.linspace(x_min, x_max, 100, device=\"cpu\")\n",
    "        # Decision Boundary:\n",
    "        # w1 * x1 + w2 * x2 + b = 0 -> x2 = -(w1 * x1 + b) / w2\n",
    "        x2_vals = -(w[0] * x1_vals + b) / w[1]\n",
    "        plt.plot(\n",
    "            x1_vals,\n",
    "            x2_vals,\n",
    "            \"g--\",\n",
    "            linewidth=1,\n",
    "            label=\"Decision Boundary\",\n",
    "        )\n",
    "    plt.xlabel(\"x1\")\n",
    "    plt.ylabel(\"x2\")\n",
    "    plt.legend()\n",
    "    plt.show()\n",
    "\n",
    "\n",
    "class Perceptron:\n",
    "    def __init__(self, input_dim: int) -> None:\n",
    "        self.w = torch.randn(input_dim, dtype=torch.float32)\n",
    "        self.b = torch.randn(1, dtype=torch.float32)\n",
    "\n",
    "    def predict(self, X: torch.Tensor) -> torch.Tensor:\n",
    "        return torch.sign(torch.matmul(X, self.w) + self.b)\n",
    "\n",
    "\n",
    "def train_perceptron(\n",
    "    X: torch.Tensor,\n",
    "    y: torch.Tensor,\n",
    "    epochs: int,\n",
    "    lr: float,\n",
    ") -> Perceptron:\n",
    "    epochs = int(epochs)\n",
    "    model = Perceptron(input_dim=X.shape[1])\n",
    "    for epoch in range(1, epochs + 1):\n",
    "        predictions = model.predict(X)\n",
    "        updates = predictions != y\n",
    "        errors = updates.sum().item()\n",
    "        if errors == 0:\n",
    "            print(f\"Training converged after {epoch} epochs.\")\n",
    "            break\n",
    "        else:\n",
    "            model.w += lr * y[updates].unsqueeze(1).mul(X[updates]).sum(dim=0)\n",
    "            model.b += lr * y[updates].sum()\n",
    "    else:\n",
    "        print(f\"Training did not converge after {epochs} epochs.\")\n",
    "    return model\n",
    "\n",
    "\n",
    "def calculate_accuracy(model: Perceptron, X: torch.Tensor, y: torch.Tensor) -> float:\n",
    "    return model.predict(X).eq(y).float().mean().item()\n",
    "\n",
    "\n",
    "X_train, y_train = load_perceptron_data(\"train.mat\")\n",
    "print(dict(X_train=tuple(X_train.shape), y_train=tuple(y_train.shape)))\n",
    "torch.manual_seed(17)\n",
    "model = train_perceptron(X_train, y_train, epochs=1e3, lr=1e-3)\n",
    "accuracy = calculate_accuracy(model, X_train, y_train)\n",
    "\n",
    "print(f\"Perceptron Training Accuracy: {accuracy:.2%}\")\n",
    "plot_decision_boundary(X_train, y_train, model.w, model.b)"
   ]
  },
  {
   "cell_type": "markdown",
   "metadata": {},
   "source": [
    "# Problem 2\n",
    "\n",
    "Construct and train three neural networks with 3, 10, and 50 hidden layers, respectively. Each hidden layer should contain five neurons and use the ReLU activation function. Train each network on `\"train.mat\"` and evaluate them on the test dataset `\"test.mat\"`. Report the test error (percentage of misclassified samples) for each neural network."
   ]
  },
  {
   "cell_type": "markdown",
   "metadata": {},
   "source": [
    "## Solution\n"
   ]
  },
  {
   "cell_type": "code",
   "execution_count": 3,
   "metadata": {},
   "outputs": [],
   "source": [
    "import scipy.io\n",
    "import torch\n",
    "from torch import nn, optim\n",
    "from torch.utils.data import DataLoader\n",
    "from tqdm import trange\n",
    "from typing import Tuple\n",
    "\n",
    "\n",
    "def load_classification_data(file_path: str) -> Tuple[torch.Tensor, torch.Tensor]:\n",
    "    data = scipy.io.loadmat(file_path)\n",
    "    x1 = torch.tensor(data[\"x1\"], dtype=torch.float32).reshape(-1, 1)\n",
    "    x2 = torch.tensor(data[\"x2\"], dtype=torch.float32).reshape(-1, 1)\n",
    "    X = torch.cat((x1, x2), dim=1)\n",
    "    y = torch.tensor(data[\"y\"].flatten(), dtype=torch.long)\n",
    "    num_classes = y.unique().shape[0]\n",
    "    assert num_classes == 2, f\"Expected 2 classes, but got {num_classes}.\"\n",
    "    return X, y\n",
    "\n",
    "\n",
    "class Model(nn.Module):\n",
    "    def __init__(\n",
    "        self,\n",
    "        input_dim: int,\n",
    "        hidden_layers: int,\n",
    "        hidden_size: int,\n",
    "        output_size: int,\n",
    "        hidden_activation: nn.Module,\n",
    "    ) -> None:\n",
    "        input_dim = int(input_dim)\n",
    "        hidden_layers = int(hidden_layers)\n",
    "        hidden_size = int(hidden_size)\n",
    "        output_size = int(output_size)\n",
    "\n",
    "        super(Model, self).__init__()\n",
    "        self.net = nn.Sequential(\n",
    "            nn.Flatten(),\n",
    "            nn.Linear(input_dim, hidden_size),\n",
    "            hidden_activation(),\n",
    "            *[\n",
    "                nn.Sequential(\n",
    "                    nn.Linear(hidden_size, hidden_size),\n",
    "                    hidden_activation(),\n",
    "                )\n",
    "                for _ in range(hidden_layers - 1)\n",
    "            ],\n",
    "            nn.Linear(hidden_size, output_size),\n",
    "            nn.Softmax(dim=-1),\n",
    "        )\n",
    "\n",
    "    def forward(self, x: torch.Tensor) -> torch.Tensor:\n",
    "        return self.net(x)\n",
    "\n",
    "    def __repr__(self):\n",
    "        class_name = self.__class__.__name__\n",
    "        hidden_layers = len(self.net) - 4\n",
    "        hidden_size = self.net[1].out_features\n",
    "        return f\"{class_name}(hidden_layers={hidden_layers}, hidden_size={hidden_size})\"\n",
    "\n",
    "\n",
    "def train_model(\n",
    "    model: nn.Module,\n",
    "    data: DataLoader,\n",
    "    epochs: int,\n",
    "    lr: float,\n",
    ") -> Model:\n",
    "    epochs = int(epochs)\n",
    "    optimizer = optim.Adam(model.parameters(), lr=lr)\n",
    "    criterion = nn.CrossEntropyLoss()\n",
    "    model.train()\n",
    "    progress = trange(epochs, dynamic_ncols=True, desc=f\"Training {model}\", unit=\" e\")\n",
    "    progress.refresh()\n",
    "    for _ in progress:\n",
    "        for X, y in data:\n",
    "            optimizer.zero_grad()\n",
    "            outputs = model(X)\n",
    "            loss = criterion(outputs, y)\n",
    "            loss.backward()\n",
    "            optimizer.step()\n",
    "            progress.set_postfix(dict(loss=f\"{loss.item():.2f}\"))\n",
    "    return model\n",
    "\n",
    "\n",
    "@torch.no_grad()\n",
    "def test_model(model: nn.Module, data: DataLoader) -> float:\n",
    "    model.eval()\n",
    "    error, total = 0, 0\n",
    "    for X, y in data:\n",
    "        error += model(X).argmax(dim=1).ne(y).sum().item()\n",
    "        total += y.size(0)\n",
    "    return error / total\n",
    "\n",
    "\n",
    "def experiment_for_problem_3(hidden_activation: nn.Module) -> None:\n",
    "    X_train, y_train = load_classification_data(\"train.mat\")\n",
    "    X_test, y_test = load_classification_data(\"test.mat\")\n",
    "    print(dict(y_train=tuple(y_train.shape), y_test=tuple(y_test.shape)))\n",
    "    hidden_layers_set = [3, 10, 50]\n",
    "\n",
    "    for hidden_layers in hidden_layers_set:\n",
    "        torch.manual_seed(31)\n",
    "        model = Model(\n",
    "            input_dim=X_train.shape[-1],\n",
    "            hidden_size=5,\n",
    "            output_size=y_train.unique().shape[0],\n",
    "            hidden_layers=hidden_layers,\n",
    "            hidden_activation=hidden_activation,\n",
    "        )\n",
    "        model = train_model(\n",
    "            model,\n",
    "            data=[(X_train, y_train)],\n",
    "            epochs=1e3,\n",
    "            lr=1e-3,\n",
    "        )\n",
    "        error = test_model(model, [(X_test, y_test)])\n",
    "        print(dict(hidden_layers=hidden_layers, test_error=f\"{error:.2%}\"))"
   ]
  },
  {
   "cell_type": "code",
   "execution_count": 4,
   "metadata": {},
   "outputs": [
    {
     "name": "stdout",
     "output_type": "stream",
     "text": [
      "{'y_train': (70,), 'y_test': (30,)}\n"
     ]
    },
    {
     "name": "stderr",
     "output_type": "stream",
     "text": [
      "Training Model(hidden_layers=3, hidden_size=5): 100%|██████████| 1000/1000 [00:01<00:00, 663.85 e/s, loss=0.32]\n"
     ]
    },
    {
     "name": "stdout",
     "output_type": "stream",
     "text": [
      "{'hidden_layers': 3, 'test_error': '3.33%'}\n"
     ]
    },
    {
     "name": "stderr",
     "output_type": "stream",
     "text": [
      "Training Model(hidden_layers=10, hidden_size=5): 100%|██████████| 1000/1000 [00:02<00:00, 495.82 e/s, loss=0.31]\n"
     ]
    },
    {
     "name": "stdout",
     "output_type": "stream",
     "text": [
      "{'hidden_layers': 10, 'test_error': '3.33%'}\n"
     ]
    },
    {
     "name": "stderr",
     "output_type": "stream",
     "text": [
      "Training Model(hidden_layers=50, hidden_size=5): 100%|██████████| 1000/1000 [00:04<00:00, 223.13 e/s, loss=0.69]\n"
     ]
    },
    {
     "name": "stdout",
     "output_type": "stream",
     "text": [
      "{'hidden_layers': 50, 'test_error': '50.00%'}\n"
     ]
    }
   ],
   "source": [
    "experiment_for_problem_3(nn.ReLU)"
   ]
  },
  {
   "cell_type": "markdown",
   "metadata": {},
   "source": [
    "# Problem 3\n",
    "\n",
    "If you replace the ReLU activation function with the Sigmoid activation function for all neurons, how does this affect the performance of the three neural networks? Report and discuss your observations for each model."
   ]
  },
  {
   "cell_type": "markdown",
   "metadata": {},
   "source": [
    "## Solution\n",
    "\n",
    "Sigmoid activation can lead to vanishing gradient issues in deep networks, potentially affecting the test error rates as shown in the following results. Also, the more hidden layers we have, the more pronounced the vanishing gradient problem can become.\n",
    "\n",
    "$$ \\sigma(x) = \\frac{1}{1 + e^{-x}},\\ \\text{ReLU}(x) = \\max(0, x) $$\n",
    "\n",
    "$$ \\frac{d\\sigma(x)}{dx} = \\sigma(x)(1 - \\sigma(x)) < \\frac{d\\text{ReLU}(x)}{dx} = 1\\ \\text{if}\\ x > 0 $$"
   ]
  },
  {
   "cell_type": "code",
   "execution_count": 5,
   "metadata": {},
   "outputs": [
    {
     "name": "stdout",
     "output_type": "stream",
     "text": [
      "{'y_train': (70,), 'y_test': (30,)}\n"
     ]
    },
    {
     "name": "stderr",
     "output_type": "stream",
     "text": [
      "Training Model(hidden_layers=3, hidden_size=5): 100%|██████████| 1000/1000 [00:01<00:00, 708.72 e/s, loss=0.34]\n"
     ]
    },
    {
     "name": "stdout",
     "output_type": "stream",
     "text": [
      "{'hidden_layers': 3, 'test_error': '3.33%'}\n"
     ]
    },
    {
     "name": "stderr",
     "output_type": "stream",
     "text": [
      "Training Model(hidden_layers=10, hidden_size=5): 100%|██████████| 1000/1000 [00:01<00:00, 569.62 e/s, loss=0.69]\n"
     ]
    },
    {
     "name": "stdout",
     "output_type": "stream",
     "text": [
      "{'hidden_layers': 10, 'test_error': '50.00%'}\n"
     ]
    },
    {
     "name": "stderr",
     "output_type": "stream",
     "text": [
      "Training Model(hidden_layers=50, hidden_size=5): 100%|██████████| 1000/1000 [00:04<00:00, 237.75 e/s, loss=0.69]"
     ]
    },
    {
     "name": "stdout",
     "output_type": "stream",
     "text": [
      "{'hidden_layers': 50, 'test_error': '50.00%'}\n"
     ]
    },
    {
     "name": "stderr",
     "output_type": "stream",
     "text": [
      "\n"
     ]
    }
   ],
   "source": [
    "experiment_for_problem_3(nn.Sigmoid)"
   ]
  },
  {
   "cell_type": "markdown",
   "metadata": {},
   "source": [
    "# Problem 4\n",
    "\n",
    "The MNIST dataset consists of images of handwritten digits, with a training set of 60,000 examples and a test set of 10,000 examples. The dataset can be downloaded from http://yann.lecun.com/exdb/mnist/.\n"
   ]
  },
  {
   "cell_type": "markdown",
   "metadata": {},
   "source": [
    "## Solution\n",
    "\n",
    "We can use `torchvision.datasets` to download and preprocess the MNIST dataset.\n"
   ]
  },
  {
   "cell_type": "markdown",
   "metadata": {},
   "source": [
    "# Problem 4.1\n",
    "\n",
    "Construct a neural network-based classification model for digit recognition and train it on the MNIST training set. Report the prediction accuracy on the test set."
   ]
  },
  {
   "cell_type": "markdown",
   "metadata": {},
   "source": [
    "## Solution\n",
    "\n",
    "We build a simple neural network with two hidden layers of size $4^5 = 1024$ to classify MNIST digits. After training, we evaluate the model on the test set and report the prediction accuracy:\n",
    "\n",
    "$$ \\text{Accuracy} = \\frac{\\text{Number of correct predictions}}{\\text{Total number of predictions}} = 1 - \\frac{\\text{Number of incorrect predictions}}{\\text{Total number of predictions}} $$"
   ]
  },
  {
   "cell_type": "code",
   "execution_count": 6,
   "metadata": {},
   "outputs": [],
   "source": [
    "import torch\n",
    "from torch import nn\n",
    "from torch.utils.data import DataLoader\n",
    "from torchvision import datasets, transforms\n",
    "from typing import Tuple\n",
    "\n",
    "\n",
    "def get_mnist_dataloaders(batch_size: int) -> Tuple[DataLoader, DataLoader]:\n",
    "    from tempfile import gettempdir\n",
    "\n",
    "    data_dir = gettempdir()\n",
    "    transform = transforms.ToTensor()\n",
    "    train_set = datasets.MNIST(\n",
    "        root=data_dir, train=True, download=True, transform=transform\n",
    "    )\n",
    "    test_set = datasets.MNIST(\n",
    "        root=data_dir, train=False, download=True, transform=transform\n",
    "    )\n",
    "    train_loader = DataLoader(train_set, batch_size=batch_size)\n",
    "    test_loader = DataLoader(test_set, batch_size=batch_size)\n",
    "    return train_loader, test_loader\n",
    "\n",
    "\n",
    "def experiment_for_problem_4(\n",
    "    train_loader: DataLoader, test_loader: DataLoader\n",
    ") -> Tuple[Model, float]:\n",
    "    torch.manual_seed(41)\n",
    "    x_sample: torch.Tensor = next(iter(train_loader))[0][0, 0]\n",
    "    y_sample: torch.Tensor = next(iter(train_loader))[1]\n",
    "    num_classes = len(y_sample.unique())\n",
    "    print(\n",
    "        dict(\n",
    "            x_sample=tuple(x_sample.shape),\n",
    "            y_sample=tuple(y_sample.shape),\n",
    "            num_classes=num_classes,\n",
    "        )\n",
    "    )\n",
    "\n",
    "    model = Model(\n",
    "        input_dim=x_sample.numel(),\n",
    "        hidden_layers=2,\n",
    "        hidden_size=4**5,\n",
    "        output_size=num_classes,\n",
    "        hidden_activation=nn.ReLU,\n",
    "    )\n",
    "    model = train_model(model, train_loader, epochs=3, lr=1e-3)\n",
    "    accuracy = 1 - test_model(model, test_loader)\n",
    "    return model, accuracy"
   ]
  },
  {
   "cell_type": "code",
   "execution_count": 7,
   "metadata": {},
   "outputs": [
    {
     "name": "stdout",
     "output_type": "stream",
     "text": [
      "{'x_sample': (28, 28), 'y_sample': (200,), 'num_classes': 10}\n"
     ]
    },
    {
     "name": "stderr",
     "output_type": "stream",
     "text": [
      "Training Model(hidden_layers=2, hidden_size=1024): 100%|██████████| 3/3 [00:11<00:00,  3.67s/ e, loss=1.48]\n"
     ]
    },
    {
     "name": "stdout",
     "output_type": "stream",
     "text": [
      "MNIST Clean Test Accuracy: 96.39%\n"
     ]
    }
   ],
   "source": [
    "train_loader, test_loader = get_mnist_dataloaders(200)\n",
    "model_clean, accuracy_clean = experiment_for_problem_4(train_loader, test_loader)\n",
    "print(f\"MNIST Clean Test Accuracy: {accuracy_clean:.2%}\")"
   ]
  },
  {
   "cell_type": "markdown",
   "metadata": {},
   "source": [
    "# Problem 4.2\n",
    "\n",
    "Introduce 10% salt-and-pepper noise to the test images using the sample code below and evaluate them using the model trained on clean images from Question 4.1. Report the prediction accuracy on the noisy test set. Compare these results with those from Question 4.1 and discuss your observations. To add salt-and-pepper noise to the images, you can use the following code snippet:\n",
    "\n",
    "```python\n",
    "# See the code snippet in the solution section\n",
    "```"
   ]
  },
  {
   "cell_type": "markdown",
   "metadata": {},
   "source": [
    "## Solution\n"
   ]
  },
  {
   "cell_type": "code",
   "execution_count": 8,
   "metadata": {},
   "outputs": [
    {
     "name": "stdout",
     "output_type": "stream",
     "text": [
      "MNIST Noisy Test Accuracy: 74.89%\n",
      "Change of Accuracy from Clean to Noisy Test: -21.50%\n"
     ]
    },
    {
     "data": {
      "image/jpeg": "[encoded data removed]",
      "image/png": "[encoded data removed]",
      "text/plain": [
       "<PIL.Image.Image image mode=L size=448x224>"
      ]
     },
     "metadata": {},
     "output_type": "display_data"
    }
   ],
   "source": [
    "import torch\n",
    "from torch.nn.functional import interpolate\n",
    "from PIL import Image\n",
    "\n",
    "\n",
    "def add_salt_noise(x: torch.Tensor, noise_level: float) -> torch.Tensor:\n",
    "    x = x.clone()\n",
    "    num_pixels = x.shape[-2:].numel()\n",
    "    num_noisy = int(num_pixels * noise_level)\n",
    "    x.view(-1).index_fill_(0, torch.randperm(num_pixels)[:num_noisy], 1.0)\n",
    "    return x\n",
    "\n",
    "\n",
    "def get_noisy_mnist_dataloader(\n",
    "    data_loader: DataLoader,\n",
    "    noise_level: float = 0.1,\n",
    ") -> DataLoader:\n",
    "    class NoisyDataset(torch.utils.data.Dataset):\n",
    "        def __init__(self, original_dataset, noise_level):\n",
    "            self.dataset = original_dataset\n",
    "            self.noise_level = noise_level\n",
    "\n",
    "        def __len__(self):\n",
    "            return len(self.dataset)\n",
    "\n",
    "        def __getitem__(self, idx):\n",
    "            X, y = self.dataset[idx]\n",
    "            X_noisy = add_salt_noise(X.unsqueeze(0), self.noise_level).squeeze(0)\n",
    "            return X_noisy, y\n",
    "\n",
    "    noisy_dataset = NoisyDataset(data_loader.dataset, noise_level)\n",
    "    noisy_loader = DataLoader(noisy_dataset, batch_size=data_loader.batch_size)\n",
    "    return noisy_loader\n",
    "\n",
    "\n",
    "torch.manual_seed(41)\n",
    "test_loader_noisy = get_noisy_mnist_dataloader(test_loader, noise_level=0.1)\n",
    "accuracy_noisy_test = 1 - test_model(model_clean, test_loader_noisy)\n",
    "accuracy_diff = accuracy_noisy_test - accuracy_clean\n",
    "print(f\"MNIST Noisy Test Accuracy: {accuracy_noisy_test:.2%}\")\n",
    "print(f\"Change of Accuracy from Clean to Noisy Test: {accuracy_diff:.2%}\")\n",
    "\n",
    "x_sample: torch.Tensor = next(iter(test_loader))[0][0, 0]\n",
    "x_sample_noisy: torch.Tensor = next(iter(test_loader_noisy))[0][0, 0]\n",
    "image_sample = torch.hstack([x_sample, x_sample_noisy]).unsqueeze(0).unsqueeze(0)\n",
    "image_sample = interpolate(image_sample.mul(255).byte(), scale_factor=8).flatten(0, 2)\n",
    "image_sample = Image.fromarray(image_sample.numpy())\n",
    "display(image_sample)"
   ]
  },
  {
   "cell_type": "markdown",
   "metadata": {},
   "source": [
    "## Discussion\n",
    "\n",
    "Adding 10% salt noise to the test images led to a substantial drop by 21% in model performance, indicating that the model is sensitive to noise in input data."
   ]
  },
  {
   "cell_type": "markdown",
   "metadata": {},
   "source": [
    "# Problem 4.3\n",
    "\n",
    "Add 10% salt-and-pepper noise to the training set and re-train the model on the noisy data. Then, evaluate the model on the noisy test images from Question 4.2. Report the prediction accuracy and compare these results with those from Question 4.2. Discuss any differences and insights."
   ]
  },
  {
   "cell_type": "markdown",
   "metadata": {},
   "source": [
    "## Solution\n"
   ]
  },
  {
   "cell_type": "code",
   "execution_count": 9,
   "metadata": {},
   "outputs": [
    {
     "name": "stdout",
     "output_type": "stream",
     "text": [
      "{'x_sample': (28, 28), 'y_sample': (200,), 'num_classes': 10}\n"
     ]
    },
    {
     "name": "stderr",
     "output_type": "stream",
     "text": [
      "Training Model(hidden_layers=2, hidden_size=1024): 100%|██████████| 3/3 [00:14<00:00,  4.72s/ e, loss=1.50]\n"
     ]
    },
    {
     "name": "stdout",
     "output_type": "stream",
     "text": [
      "MNIST Noisy Train-Test Accuracy: 93.94%\n",
      "Change of Accuracy from Noisy Test to Noisy Train-Test: 19.05%\n"
     ]
    }
   ],
   "source": [
    "train_loader_noisy = get_noisy_mnist_dataloader(train_loader, noise_level=0.1)\n",
    "model_noisy, accuracy_noisy_train_test = experiment_for_problem_4(\n",
    "    train_loader_noisy, test_loader_noisy\n",
    ")\n",
    "accuracy_diff = accuracy_noisy_train_test - accuracy_noisy_test\n",
    "print(f\"MNIST Noisy Train-Test Accuracy: {accuracy_noisy_train_test:.2%}\")\n",
    "print(f\"Change of Accuracy from Noisy Test to Noisy Train-Test: {accuracy_diff:.2%}\")"
   ]
  },
  {
   "cell_type": "code",
   "execution_count": 10,
   "metadata": {},
   "outputs": [
    {
     "name": "stdout",
     "output_type": "stream",
     "text": [
      "MNIST Noisy Train Clean Test Accuracy: 95.35%\n"
     ]
    }
   ],
   "source": [
    "accuracy_noisy_train_clean_test = 1 - test_model(model_noisy, test_loader)\n",
    "print(f\"MNIST Noisy Train Clean Test Accuracy: {accuracy_noisy_train_clean_test:.2%}\")"
   ]
  },
  {
   "cell_type": "markdown",
   "metadata": {},
   "source": [
    "## Discussion\n",
    "\n",
    "Training and evaluating the model on noisy dataset outperformed the model trained on clean data and tested on noisy data by 19% accuracy. This result suggests that training on noisy data can improve the model's robustness to noise in the test data.\n",
    "\n",
    "Besides, the model trained on noisy data and tested on clean data achieved similar accuracy by 1% difference to the model trained on clean data, indicating that the model can generalize well to clean data despite being trained on noisy data."
   ]
  },
  {
   "cell_type": "code",
   "execution_count": 11,
   "metadata": {
    "vscode": {
     "languageId": "html"
    }
   },
   "outputs": [
    {
     "data": {
      "text/html": [
       "<style>\n",
       "    .jp-Cell.jp-Notebook-cell:last-child {\n",
       "        display: none;\n",
       "    }\n",
       "\n",
       "    @page {\n",
       "        size: A4 portrait;\n",
       "        margin: 5mm;\n",
       "    }\n",
       "\n",
       "    @media screen {\n",
       "        body {\n",
       "            margin: 5mm;\n",
       "        }\n",
       "    }\n",
       "\n",
       "    :root {\n",
       "        --jp-content-link-color: dodgerblue;\n",
       "    }\n",
       "\n",
       "    a code {\n",
       "        color: var(--jp-content-link-color) !important;\n",
       "    }\n",
       "\n",
       "    .jp-RenderedHTMLCommon {\n",
       "        font-family: Calibri, Verdana, sans-serif !important;\n",
       "        font-size: 13px !important;\n",
       "        font-weight: 400 !important;\n",
       "        line-height: 1.35 !important;\n",
       "    }\n",
       "\n",
       "    code,\n",
       "    pre {\n",
       "        font-family: Monaco, monospace !important;\n",
       "    }\n",
       "\n",
       "    h1 {\n",
       "        text-align: center !important;\n",
       "    }\n",
       "\n",
       "    h1,\n",
       "    h2,\n",
       "    h3,\n",
       "    h4,\n",
       "    h5,\n",
       "    h6,\n",
       "    strong {\n",
       "        font-weight: 700 !important;\n",
       "    }\n",
       "\n",
       "    h1 {\n",
       "        page-break-before: always;\n",
       "    }\n",
       "\n",
       "    pre {\n",
       "        white-space: pre-wrap;\n",
       "    }\n",
       "\n",
       "    table,\n",
       "    td,\n",
       "    th,\n",
       "    tr,\n",
       "    tbody,\n",
       "    thead,\n",
       "    tfoot {\n",
       "        page-break-inside: avoid !important;\n",
       "    }\n",
       "\n",
       "    .jp-RenderedHTMLCommon td,\n",
       "    .jp-RenderedHTMLCommon th,\n",
       "    .jp-RenderedHTMLCommon tr {\n",
       "        border: 1px solid var(--md-grey-500);\n",
       "    }\n",
       "\n",
       "    .jp-RenderedHTMLCommon table {\n",
       "        margin-left: 2em;\n",
       "    }\n",
       "\n",
       "    .jp-CodeCell {\n",
       "        margin-bottom: 1.5em;\n",
       "    }\n",
       "</style>\n"
      ],
      "text/plain": [
       "<IPython.core.display.HTML object>"
      ]
     },
     "metadata": {},
     "output_type": "display_data"
    }
   ],
   "source": [
    "%%html\n",
    "<style>\n",
    "    .jp-Cell.jp-Notebook-cell:last-child {\n",
    "        display: none;\n",
    "    }\n",
    "\n",
    "    @page {\n",
    "        size: A4 portrait;\n",
    "        margin: 5mm;\n",
    "    }\n",
    "\n",
    "    @media screen {\n",
    "        body {\n",
    "            margin: 5mm;\n",
    "        }\n",
    "    }\n",
    "\n",
    "    :root {\n",
    "        --jp-content-link-color: dodgerblue;\n",
    "    }\n",
    "\n",
    "    a code {\n",
    "        color: var(--jp-content-link-color) !important;\n",
    "    }\n",
    "\n",
    "    .jp-RenderedHTMLCommon {\n",
    "        font-family: Calibri, Verdana, sans-serif !important;\n",
    "        font-size: 13px !important;\n",
    "        font-weight: 400 !important;\n",
    "        line-height: 1.35 !important;\n",
    "    }\n",
    "\n",
    "    code,\n",
    "    pre {\n",
    "        font-family: Monaco, monospace !important;\n",
    "    }\n",
    "\n",
    "    h1 {\n",
    "        text-align: center !important;\n",
    "    }\n",
    "\n",
    "    h1,\n",
    "    h2,\n",
    "    h3,\n",
    "    h4,\n",
    "    h5,\n",
    "    h6,\n",
    "    strong {\n",
    "        font-weight: 700 !important;\n",
    "    }\n",
    "\n",
    "    h1 {\n",
    "        page-break-before: always;\n",
    "    }\n",
    "\n",
    "    pre {\n",
    "        white-space: pre-wrap;\n",
    "    }\n",
    "\n",
    "    table,\n",
    "    td,\n",
    "    th,\n",
    "    tr,\n",
    "    tbody,\n",
    "    thead,\n",
    "    tfoot {\n",
    "        page-break-inside: avoid !important;\n",
    "    }\n",
    "\n",
    "    .jp-RenderedHTMLCommon td,\n",
    "    .jp-RenderedHTMLCommon th,\n",
    "    .jp-RenderedHTMLCommon tr {\n",
    "        border: 1px solid var(--md-grey-500);\n",
    "    }\n",
    "\n",
    "    .jp-RenderedHTMLCommon table {\n",
    "        margin-left: 2em;\n",
    "    }\n",
    "\n",
    "    .jp-CodeCell {\n",
    "        margin-bottom: 1.5em;\n",
    "    }\n",
    "</style>"
   ]
  }
 ],
 "metadata": {
  "kernelspec": {
   "display_name": "Python 3",
   "language": "python",
   "name": "python3"
  },
  "language_info": {
   "codemirror_mode": {
    "name": "ipython",
    "version": 3
   },
   "file_extension": ".py",
   "mimetype": "text/x-python",
   "name": "python",
   "nbconvert_exporter": "python",
   "pygments_lexer": "ipython3",
   "version": "3.12.2"
  }
 },
 "nbformat": 4,
 "nbformat_minor": 2
}
